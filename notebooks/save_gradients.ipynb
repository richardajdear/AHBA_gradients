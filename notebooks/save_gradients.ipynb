{
 "cells": [
  {
   "cell_type": "markdown",
   "id": "2ff81eff-e413-402c-986f-b186d268ffa9",
   "metadata": {},
   "source": [
    "# Save gradient images"
   ]
  },
  {
   "cell_type": "code",
   "execution_count": 1,
   "id": "d7684938-0c27-48a0-a54d-a0c36f8cbdad",
   "metadata": {},
   "outputs": [],
   "source": [
    "# Import modules and R\n",
    "import numpy as np, pandas as pd\n",
    "%load_ext rpy2.ipython\n",
    "%load_ext autoreload\n",
    "%autoreload 2"
   ]
  },
  {
   "cell_type": "code",
   "execution_count": 2,
   "id": "cec61cc9-fd22-4c87-b67d-57f452beb342",
   "metadata": {
    "jupyter": {
     "source_hidden": true
    },
    "tags": []
   },
   "outputs": [
    {
     "name": "stderr",
     "output_type": "stream",
     "text": [
      "/opt/conda/lib/python3.8/site-packages/nilearn/input_data/__init__.py:27: FutureWarning: The import path 'nilearn.input_data' is deprecated in version 0.9. Importing from 'nilearn.input_data' will be possible at least until release 0.13.0. Please import from 'nilearn.maskers' instead.\n",
      "  warnings.warn(message, FutureWarning)\n"
     ]
    }
   ],
   "source": [
    "# Import local code\n",
    "import sys\n",
    "sys.path.append('../code')\n",
    "from gradientVersion import *\n",
    "from processing_helpers import *\n",
    "from analysis_helpers import *\n",
    "from triplets import *\n",
    "from mri_maps import *\n",
    "from enrichments import *\n",
    "from brainspan import *\n",
    "%R source(\"../code/Rplots.R\");\n",
    "%R source(\"../code/brainPlots.R\");\n",
    "%R source(\"../code/enrichmentsPlots.R\");\n",
    "%R source(\"../code/plot_maps.R\");\n",
    "%R source(\"../code/brainspanPlots.R\");"
   ]
  },
  {
   "cell_type": "code",
   "execution_count": 3,
   "id": "b8b11f10-6908-4427-a421-90a2bd229c2d",
   "metadata": {},
   "outputs": [
    {
     "name": "stdout",
     "output_type": "stream",
     "text": [
      "New gradients version: method=dm, kernel=normalized_angle, sparsity=0, data=hcp_3donors_ds5\n",
      "New gradients version: method=dm, kernel=normalized_angle, sparsity=0, data=hcp_ds9\n"
     ]
    }
   ],
   "source": [
    "dm_hcp_3d_ds5 = gradientVersion(approach='dm', kernel='normalized_angle', alpha=1).fit('hcp_3donors_ds5')\n",
    "dm_hcp_ds9 = gradientVersion(approach='dm', kernel='normalized_angle', alpha=1).fit('hcp_ds9')"
   ]
  },
  {
   "cell_type": "code",
   "execution_count": 17,
   "id": "6f9b7cef-42f5-46be-a5a0-23bb876aaa71",
   "metadata": {},
   "outputs": [],
   "source": [
    "g1 = dm_hcp_ds9.scores[0].reindex(range(1,181)).values"
   ]
  },
  {
   "cell_type": "markdown",
   "id": "deaf819a-02e5-4124-a388-cec9c8aaba9e",
   "metadata": {},
   "source": [
    "Put gradients into vertices"
   ]
  },
  {
   "cell_type": "code",
   "execution_count": 28,
   "id": "a24cb2a9-1a78-4f1a-8014-32441bad23d3",
   "metadata": {},
   "outputs": [],
   "source": [
    "from nilearn.input_data import NiftiLabelsMasker\n",
    "from neuromaps.nulls.spins import parcels_to_vertices\n",
    "from neuromaps.images import annot_to_gifti, construct_shape_gii"
   ]
  },
  {
   "cell_type": "code",
   "execution_count": 15,
   "id": "11f4da9a-6c4e-4e0b-af94-4b756983c459",
   "metadata": {},
   "outputs": [],
   "source": [
    "hcp_img_mni = nib.load(\"../data/parcellations/HCPMMP1_on_MNI152_ICBM2009a_nlin.nii.gz\")\n",
    "hcp_img = annot_to_gifti(\"../data/parcellations/lh.HCPMMP1.annot\")\n",
    "nib.save(hcp_img[0], '../data/parcellations/fsaverage.HCPMMP1.gii')"
   ]
  },
  {
   "cell_type": "code",
   "execution_count": 35,
   "id": "17c18292-177f-4ea7-bc6c-eb17130c5491",
   "metadata": {},
   "outputs": [
    {
     "data": {
      "text/plain": [
       "NiftiLabelsMasker(labels_img=<nibabel.nifti1.Nifti1Image object at 0x2b72c66558b0>)"
      ]
     },
     "execution_count": 35,
     "metadata": {},
     "output_type": "execute_result"
    }
   ],
   "source": [
    "g_nifti"
   ]
  },
  {
   "cell_type": "code",
   "execution_count": 36,
   "id": "0a6d2e1c-4952-4db6-8de2-01549386f17e",
   "metadata": {},
   "outputs": [],
   "source": [
    "version = dm_hcp_ds9\n",
    "for g in range(3):\n",
    "    g_scores = version.scores[g].reindex(range(1,181)).values\n",
    "    g_array = parcels_to_vertices(g_scores, hcp_img)\n",
    "    g_gifti = construct_shape_gii(g_array)\n",
    "    nib.save(g_gifti, f\"../outputs/g{g+1}.gii\")\n",
    "    \n",
    "    g_2d = np.atleast_2d(g_scores)\n",
    "    g_nifti = NiftiLabelsMasker(hcp_img_mni)\n",
    "    g_nifti = g_nifti.fit().inverse_transform(g_2d)\n",
    "    nib.save(g_nifti, f\"../outputs/g{g+1}.nii\")"
   ]
  },
  {
   "cell_type": "code",
   "execution_count": 38,
   "id": "95e3a641-ac36-48c9-ae55-92241ce67b41",
   "metadata": {},
   "outputs": [
    {
     "data": {
      "text/plain": [
       "<nibabel.nifti1.Nifti1Image at 0x2b7285379a00>"
      ]
     },
     "execution_count": 38,
     "metadata": {},
     "output_type": "execute_result"
    }
   ],
   "source": [
    "g_nifti"
   ]
  },
  {
   "cell_type": "code",
   "execution_count": null,
   "id": "14e097b9-7cc1-4cde-a64b-1114de5e2d93",
   "metadata": {},
   "outputs": [],
   "source": []
  }
 ],
 "metadata": {
  "kernelspec": {
   "display_name": "Python 3",
   "language": "python",
   "name": "python3"
  },
  "language_info": {
   "codemirror_mode": {
    "name": "ipython",
    "version": 3
   },
   "file_extension": ".py",
   "mimetype": "text/x-python",
   "name": "python",
   "nbconvert_exporter": "python",
   "pygments_lexer": "ipython3",
   "version": "3.8.6"
  }
 },
 "nbformat": 4,
 "nbformat_minor": 5
}
