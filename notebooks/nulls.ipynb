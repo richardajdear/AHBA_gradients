{
 "cells": [
  {
   "attachments": {},
   "cell_type": "markdown",
   "metadata": {},
   "source": [
    "# MRI maps"
   ]
  },
  {
   "cell_type": "code",
   "execution_count": 1,
   "metadata": {},
   "outputs": [
    {
     "name": "stdout",
     "output_type": "stream",
     "text": [
      "/home/jovyan/work/notebooks\n"
     ]
    }
   ],
   "source": [
    "%cd work/notebooks"
   ]
  },
  {
   "cell_type": "code",
   "execution_count": 2,
   "metadata": {},
   "outputs": [],
   "source": [
    "# Import modules and R\n",
    "import numpy as np, pandas as pd\n",
    "%load_ext rpy2.ipython\n",
    "%load_ext autoreload\n",
    "%autoreload 2"
   ]
  },
  {
   "cell_type": "code",
   "execution_count": 43,
   "metadata": {},
   "outputs": [],
   "source": [
    "import sys\n",
    "sys.path.append('/home/jovyan/work/code')\n",
    "from processing_helpers import *\n",
    "from analysis_helpers import *\n",
    "from mri_maps import *\n",
    "from gradientVersion import *\n",
    "%R source(\"../code/Rplots.R\");\n",
    "%R source(\"../code/brainPlots.R\");\n",
    "%R source(\"../code/plot_maps.R\");"
   ]
  },
  {
   "attachments": {},
   "cell_type": "markdown",
   "metadata": {},
   "source": [
    "Get components"
   ]
  },
  {
   "cell_type": "code",
   "execution_count": 54,
   "metadata": {},
   "outputs": [
    {
     "name": "stdout",
     "output_type": "stream",
     "text": [
      "New gradients version: method=dm, kernel=normalized_angle, sparsity=0, data=hcp_3d_ds5\n"
     ]
    }
   ],
   "source": [
    "dme_3d_ds5 = gradientVersion().fit('hcp_3d_ds5')"
   ]
  },
  {
   "attachments": {},
   "cell_type": "markdown",
   "metadata": {},
   "source": [
    "## Option one: make null scores from simulated maps"
   ]
  },
  {
   "cell_type": "code",
   "execution_count": null,
   "metadata": {},
   "outputs": [],
   "source": [
    "dme_3d_ds5.make_null_scores(n=5000, save_name='hcp_3d_ds5_clean_sim_5000')"
   ]
  },
  {
   "attachments": {},
   "cell_type": "markdown",
   "metadata": {},
   "source": [
    "## Option two: make null scores from spins"
   ]
  },
  {
   "attachments": {},
   "cell_type": "markdown",
   "metadata": {},
   "source": [
    "First generate generic spins at given density and save"
   ]
  },
  {
   "cell_type": "code",
   "execution_count": 36,
   "metadata": {},
   "outputs": [
    {
     "name": "stdout",
     "output_type": "stream",
     "text": [
      "                            00Saved spins to ../outputs/permutations/spins_41k_100.npy\n",
      "\n",
      "Generated block 0 of 100 spins at density 41k\n"
     ]
    }
   ],
   "source": [
    "generate_spins(n=100, blocks=1, density='41k')"
   ]
  },
  {
   "cell_type": "code",
   "execution_count": 39,
   "metadata": {},
   "outputs": [],
   "source": [
    "spins = np.load(\"../outputs/permutations/spins_41k_5000.npy\")\n",
    "# spins = np.load(\"../outputs/permutations/spins_41k_100.npy\")"
   ]
  },
  {
   "attachments": {},
   "cell_type": "markdown",
   "metadata": {},
   "source": [
    "Read HCP parcellation files"
   ]
  },
  {
   "cell_type": "code",
   "execution_count": 5,
   "metadata": {},
   "outputs": [],
   "source": [
    "hcp_img_files = ('../data/parcellations/lh.HCPMMP1.annot',\n",
    "                 '../data/parcellations/rh.HCPMMP1.annot')\n",
    "hcp_img = annot_to_gifti(hcp_img_files)"
   ]
  },
  {
   "attachments": {},
   "cell_type": "markdown",
   "metadata": {},
   "source": [
    "Project HCP to fsaverage at given density (e.g. 41k)"
   ]
  },
  {
   "cell_type": "code",
   "execution_count": 26,
   "metadata": {},
   "outputs": [
    {
     "name": "stdout",
     "output_type": "stream",
     "text": [
      "Downloading data from https://files.osf.io/v1/resources/4mw3a/providers/osfstorage/60b684aecb2a5e01fc68b7e1 ...\n"
     ]
    },
    {
     "name": "stderr",
     "output_type": "stream",
     "text": [
      "Downloaded 5898240 of 6550379 bytes (90.0%,    0.1s remaining) ...done. (2 seconds, 0 min)\n",
      "Extracting data from /home/jovyan/neuromaps-data/9e29c30a00cc86995f334ba48854d362/fsaverage41k.tar.gz..... done.\n"
     ]
    }
   ],
   "source": [
    "from neuromaps.transforms import fsaverage_to_fsaverage\n",
    "# hcp_img_10k = fsaverage_to_fsaverage(hcp_img, target_density='10k', method='nearest')\n",
    "hcp_img_41k = fsaverage_to_fsaverage(hcp_img, target_density='41k', method='nearest')"
   ]
  },
  {
   "attachments": {},
   "cell_type": "markdown",
   "metadata": {},
   "source": [
    "Project components to spins and reaverage"
   ]
  },
  {
   "cell_type": "code",
   "execution_count": 55,
   "metadata": {},
   "outputs": [
    {
     "name": "stdout",
     "output_type": "stream",
     "text": [
      "\n",
      "Generated 5000 null spins of component 0\n",
      "\n",
      "Generated 5000 null spins of component 1\n",
      "\n",
      "Generated 5000 null spins of component 2\n",
      "Saved null spins to ../outputs/permutations/dme_3d_ds5_clean_spin_41k_5000.npy\n"
     ]
    }
   ],
   "source": [
    "scores = dme_3d_ds5.scores\n",
    "generate_nulls_from_components(scores, spins, hcp_img = hcp_img_41k, density='41k',\n",
    "                               n=5000, save_name = 'dme_3d_ds5_clean_spin_41k_5000')"
   ]
  },
  {
   "attachments": {},
   "cell_type": "markdown",
   "metadata": {},
   "source": [
    "Project HCP spins to DK"
   ]
  },
  {
   "cell_type": "code",
   "execution_count": 56,
   "metadata": {},
   "outputs": [],
   "source": [
    "nulls_hcp = np.load(\"../outputs/permutations/dme_3d_ds5_clean_spin_41k_5000.npy\")"
   ]
  },
  {
   "cell_type": "code",
   "execution_count": 57,
   "metadata": {},
   "outputs": [],
   "source": [
    "dk_img_path = ('../data/parcellations/lh.aparc.annot',\n",
    "               '../data/parcellations/rh.aparc.annot')\n",
    "dk_img = annot_to_gifti(dk_img_path)\n",
    "dk_img_41k = fsaverage_to_fsaverage(dk_img, target_density='41k', method='nearest')"
   ]
  },
  {
   "cell_type": "code",
   "execution_count": 58,
   "metadata": {},
   "outputs": [
    {
     "name": "stderr",
     "output_type": "stream",
     "text": [
      "100%|██████████| 5000/5000 [25:18<00:00,  3.29it/s]\n"
     ]
    },
    {
     "ename": "TypeError",
     "evalue": "expected str, bytes or os.PathLike object, not ndarray",
     "output_type": "error",
     "traceback": [
      "\u001b[0;31m---------------------------------------------------------------------------\u001b[0m",
      "\u001b[0;31mTypeError\u001b[0m                                 Traceback (most recent call last)",
      "\u001b[1;32m/Users/richard/Git/AHBA/notebooks/nulls.ipynb Cell 22\u001b[0m in \u001b[0;36m<cell line: 9>\u001b[0;34m()\u001b[0m\n\u001b[1;32m      <a href='vscode-notebook-cell:/Users/richard/Git/AHBA/notebooks/nulls.ipynb#X51sZmlsZQ%3D%3D?line=3'>4</a>\u001b[0m     scores_ \u001b[39m=\u001b[39m nulls_hcp[:,:,i]\n\u001b[1;32m      <a href='vscode-notebook-cell:/Users/richard/Git/AHBA/notebooks/nulls.ipynb#X51sZmlsZQ%3D%3D?line=4'>5</a>\u001b[0m     nulls_dk[:,:,i] \u001b[39m=\u001b[39m hcp_to_dk(scores_, \n\u001b[1;32m      <a href='vscode-notebook-cell:/Users/richard/Git/AHBA/notebooks/nulls.ipynb#X51sZmlsZQ%3D%3D?line=5'>6</a>\u001b[0m                                 hcp_img \u001b[39m=\u001b[39m (hcp_img_41k[\u001b[39m0\u001b[39m],), \n\u001b[1;32m      <a href='vscode-notebook-cell:/Users/richard/Git/AHBA/notebooks/nulls.ipynb#X51sZmlsZQ%3D%3D?line=6'>7</a>\u001b[0m                                 dk_img \u001b[39m=\u001b[39m (dk_img_41k[\u001b[39m0\u001b[39m],),\n\u001b[1;32m      <a href='vscode-notebook-cell:/Users/richard/Git/AHBA/notebooks/nulls.ipynb#X51sZmlsZQ%3D%3D?line=7'>8</a>\u001b[0m                                 as_df\u001b[39m=\u001b[39m\u001b[39mFalse\u001b[39;00m)\n\u001b[0;32m----> <a href='vscode-notebook-cell:/Users/richard/Git/AHBA/notebooks/nulls.ipynb#X51sZmlsZQ%3D%3D?line=8'>9</a>\u001b[0m np\u001b[39m.\u001b[39;49msave(nulls_dk, \u001b[39m\"\u001b[39;49m\u001b[39m../outputs/permutations/dme_3d_ds5_clean_spin_41k_5000_dk.npy\u001b[39;49m\u001b[39m\"\u001b[39;49m)\n",
      "File \u001b[0;32m<__array_function__ internals>:180\u001b[0m, in \u001b[0;36msave\u001b[0;34m(*args, **kwargs)\u001b[0m\n",
      "File \u001b[0;32m/opt/conda/lib/python3.10/site-packages/numpy/lib/npyio.py:512\u001b[0m, in \u001b[0;36msave\u001b[0;34m(file, arr, allow_pickle, fix_imports)\u001b[0m\n\u001b[1;32m    510\u001b[0m     file_ctx \u001b[39m=\u001b[39m contextlib\u001b[39m.\u001b[39mnullcontext(file)\n\u001b[1;32m    511\u001b[0m \u001b[39melse\u001b[39;00m:\n\u001b[0;32m--> 512\u001b[0m     file \u001b[39m=\u001b[39m os_fspath(file)\n\u001b[1;32m    513\u001b[0m     \u001b[39mif\u001b[39;00m \u001b[39mnot\u001b[39;00m file\u001b[39m.\u001b[39mendswith(\u001b[39m'\u001b[39m\u001b[39m.npy\u001b[39m\u001b[39m'\u001b[39m):\n\u001b[1;32m    514\u001b[0m         file \u001b[39m=\u001b[39m file \u001b[39m+\u001b[39m \u001b[39m'\u001b[39m\u001b[39m.npy\u001b[39m\u001b[39m'\u001b[39m\n",
      "\u001b[0;31mTypeError\u001b[0m: expected str, bytes or os.PathLike object, not ndarray"
     ]
    }
   ],
   "source": [
    "from tqdm import tqdm\n",
    "nulls_dk = np.zeros([34, 3, 5000])\n",
    "for i in tqdm(range(nulls_hcp.shape[2])):\n",
    "    scores_ = nulls_hcp[:,:,i]\n",
    "    nulls_dk[:,:,i] = hcp_to_dk(scores_, \n",
    "                                hcp_img = (hcp_img_41k[0],), \n",
    "                                dk_img = (dk_img_41k[0],),\n",
    "                                as_df=False)"
   ]
  },
  {
   "cell_type": "code",
   "execution_count": 59,
   "metadata": {},
   "outputs": [],
   "source": [
    "np.save(\"../outputs/permutations/dme_3d_ds5_clean_spin_41k_5000_dk.npy\", nulls_dk)"
   ]
  }
 ],
 "metadata": {
  "kernelspec": {
   "display_name": "Python 3 (ipykernel)",
   "language": "python",
   "name": "python3"
  },
  "language_info": {
   "codemirror_mode": {
    "name": "ipython",
    "version": 3
   },
   "file_extension": ".py",
   "mimetype": "text/x-python",
   "name": "python",
   "nbconvert_exporter": "python",
   "pygments_lexer": "ipython3",
   "version": "3.10.5"
  },
  "orig_nbformat": 4
 },
 "nbformat": 4,
 "nbformat_minor": 2
}
