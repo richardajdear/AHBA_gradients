{
 "cells": [
  {
   "attachments": {},
   "cell_type": "markdown",
   "metadata": {},
   "source": [
    "# MRI maps"
   ]
  },
  {
   "cell_type": "code",
   "execution_count": 1,
   "metadata": {},
   "outputs": [
    {
     "name": "stdout",
     "output_type": "stream",
     "text": [
      "/home/jovyan/work/notebooks\n"
     ]
    }
   ],
   "source": [
    "%cd work/notebooks"
   ]
  },
  {
   "cell_type": "code",
   "execution_count": 2,
   "metadata": {},
   "outputs": [],
   "source": [
    "# Import modules and R\n",
    "import numpy as np, pandas as pd\n",
    "%load_ext rpy2.ipython\n",
    "%load_ext autoreload\n",
    "%autoreload 2"
   ]
  },
  {
   "cell_type": "code",
   "execution_count": 69,
   "metadata": {},
   "outputs": [],
   "source": [
    "import sys\n",
    "sys.path.append('/home/jovyan/work/code')\n",
    "from processing_helpers import *\n",
    "from analysis_helpers import *\n",
    "from gradientVersion import *\n",
    "from maps_null_test import *\n",
    "%R source(\"../code/Rplots.R\");\n",
    "%R source(\"../code/brainPlots.R\");\n",
    "%R source(\"../code/plot_maps.R\");"
   ]
  },
  {
   "attachments": {},
   "cell_type": "markdown",
   "metadata": {},
   "source": [
    "Get components"
   ]
  },
  {
   "cell_type": "code",
   "execution_count": 54,
   "metadata": {},
   "outputs": [
    {
     "name": "stdout",
     "output_type": "stream",
     "text": [
      "New gradients version: method=dm, kernel=normalized_angle, sparsity=0, data=hcp_3d_ds5\n"
     ]
    }
   ],
   "source": [
    "dme_3d_ds5 = gradientVersion().fit('hcp_3d_ds5')"
   ]
  },
  {
   "attachments": {},
   "cell_type": "markdown",
   "metadata": {},
   "source": [
    "## Option one: make null scores from simulated maps"
   ]
  },
  {
   "cell_type": "code",
   "execution_count": null,
   "metadata": {},
   "outputs": [],
   "source": [
    "dme_3d_ds5.make_null_scores(n=5000, save_name='hcp_3d_ds5_clean_sim_5000')"
   ]
  },
  {
   "attachments": {},
   "cell_type": "markdown",
   "metadata": {},
   "source": [
    "## Option two: make null scores from spins"
   ]
  },
  {
   "attachments": {},
   "cell_type": "markdown",
   "metadata": {},
   "source": [
    "First generate generic spins at given density and save"
   ]
  },
  {
   "cell_type": "code",
   "execution_count": 63,
   "metadata": {},
   "outputs": [
    {
     "name": "stdout",
     "output_type": "stream",
     "text": [
      "                            00\n",
      "Saved spins to ../outputs/permutations/spins_41k_5000_v2.npy\n",
      "\n",
      "Generated 1 blocks of 5000 spins at density 41k\n"
     ]
    }
   ],
   "source": [
    "generate_spins(n=5000, blocks=1, density='41k', save_name = 'spins_41k_5000_v2')"
   ]
  },
  {
   "cell_type": "code",
   "execution_count": 94,
   "metadata": {},
   "outputs": [],
   "source": [
    "spins = np.load(\"../outputs/permutations/spins_41k_5000.npy\")\n",
    "# spins = np.load(\"../outputs/permutations/spins_41k_100.npy\")"
   ]
  },
  {
   "attachments": {},
   "cell_type": "markdown",
   "metadata": {},
   "source": [
    "Read HCP parcellation files"
   ]
  },
  {
   "cell_type": "code",
   "execution_count": 5,
   "metadata": {},
   "outputs": [],
   "source": [
    "hcp_img_files = ('../data/parcellations/lh.HCPMMP1.annot',\n",
    "                 '../data/parcellations/rh.HCPMMP1.annot')\n",
    "hcp_img = annot_to_gifti(hcp_img_files)"
   ]
  },
  {
   "attachments": {},
   "cell_type": "markdown",
   "metadata": {},
   "source": [
    "Project HCP to fsaverage at given density (e.g. 41k)"
   ]
  },
  {
   "cell_type": "code",
   "execution_count": 26,
   "metadata": {},
   "outputs": [
    {
     "name": "stdout",
     "output_type": "stream",
     "text": [
      "Downloading data from https://files.osf.io/v1/resources/4mw3a/providers/osfstorage/60b684aecb2a5e01fc68b7e1 ...\n"
     ]
    },
    {
     "name": "stderr",
     "output_type": "stream",
     "text": [
      "Downloaded 5898240 of 6550379 bytes (90.0%,    0.1s remaining) ...done. (2 seconds, 0 min)\n",
      "Extracting data from /home/jovyan/neuromaps-data/9e29c30a00cc86995f334ba48854d362/fsaverage41k.tar.gz..... done.\n"
     ]
    }
   ],
   "source": [
    "# hcp_img_10k = fsaverage_to_fsaverage(hcp_img, target_density='10k', method='nearest')\n",
    "hcp_img_41k = fsaverage_to_fsaverage(hcp_img, target_density='41k', method='nearest')"
   ]
  },
  {
   "attachments": {},
   "cell_type": "markdown",
   "metadata": {},
   "source": [
    "Project components to spins and reaverage"
   ]
  },
  {
   "cell_type": "code",
   "execution_count": 65,
   "metadata": {},
   "outputs": [
    {
     "name": "stdout",
     "output_type": "stream",
     "text": [
      "\n",
      "Generated 5000 null spins of component 0\n",
      "\n",
      "Generated 5000 null spins of component 1\n",
      "\n",
      "Generated 5000 null spins of component 2\n",
      "Saved null spins to ../outputs/permutations/dme_3d_ds5_clean_spin_41k_5000_v2.npy\n"
     ]
    }
   ],
   "source": [
    "scores = dme_3d_ds5.scores\n",
    "generate_nulls_from_components(scores, spins, parcellation_img = hcp_img_41k, density='41k',\n",
    "                               n=5000, save_name = 'dme_3d_ds5_clean_spin_41k_5000')"
   ]
  },
  {
   "attachments": {},
   "cell_type": "markdown",
   "metadata": {},
   "source": [
    "Project DK components to spins and reaverage"
   ]
  },
  {
   "cell_type": "code",
   "execution_count": 78,
   "metadata": {},
   "outputs": [],
   "source": [
    "dk_img = (\"../data/parcellations/lh.aparc.annot\", \"../data/parcellations/rh.aparc.annot\")\n",
    "dk_img = annot_to_gifti(dk_img)\n",
    "dk_img = fsaverage_to_fsaverage(dk_img, target_density='41k', method='nearest')"
   ]
  },
  {
   "cell_type": "code",
   "execution_count": 95,
   "metadata": {},
   "outputs": [
    {
     "name": "stdout",
     "output_type": "stream",
     "text": [
      "\n",
      "Generated 5000 null spins of component 0\n",
      "\n",
      "Generated 5000 null spins of component 1\n",
      "\n",
      "Generated 5000 null spins of component 2\n",
      "Saved null spins to ../outputs/permutations/dme_3d_ds5_clean_in_dk_spin_41k_5000.npy\n"
     ]
    }
   ],
   "source": [
    "scores = dme_3d_ds5.score_in_dk()\n",
    "generate_nulls_from_components(scores, spins, atlas='dk', parcellation_img = dk_img, density='41k',\n",
    "                               n=5000, save_name = 'dme_3d_ds5_clean_in_dk_spin_41k_5000')"
   ]
  },
  {
   "attachments": {},
   "cell_type": "markdown",
   "metadata": {},
   "source": [
    "Project HCP spins to DK"
   ]
  },
  {
   "cell_type": "code",
   "execution_count": 66,
   "metadata": {},
   "outputs": [],
   "source": [
    "nulls_hcp = np.load(\"../outputs/permutations/dme_3d_ds5_clean_spin_41k_5000_v2.npy\")"
   ]
  },
  {
   "cell_type": "code",
   "execution_count": 67,
   "metadata": {},
   "outputs": [],
   "source": [
    "dk_img_path = ('../data/parcellations/lh.aparc.annot',\n",
    "               '../data/parcellations/rh.aparc.annot')\n",
    "dk_img = annot_to_gifti(dk_img_path)\n",
    "dk_img_41k = fsaverage_to_fsaverage(dk_img, target_density='41k', method='nearest')"
   ]
  },
  {
   "cell_type": "code",
   "execution_count": 70,
   "metadata": {},
   "outputs": [
    {
     "name": "stderr",
     "output_type": "stream",
     "text": [
      "100%|██████████| 5000/5000 [22:05<00:00,  3.77it/s]\n"
     ]
    }
   ],
   "source": [
    "from tqdm import tqdm\n",
    "nulls_dk = np.zeros([34, 3, 5000])\n",
    "for i in tqdm(range(nulls_hcp.shape[2])):\n",
    "    scores_ = nulls_hcp[:,:,i]\n",
    "    nulls_dk[:,:,i] = hcp_to_dk(scores_, \n",
    "                                hcp_img = (hcp_img_41k[0],), \n",
    "                                dk_img = (dk_img_41k[0],),\n",
    "                                as_df=False)"
   ]
  },
  {
   "cell_type": "code",
   "execution_count": 71,
   "metadata": {},
   "outputs": [],
   "source": [
    "np.save(\"../outputs/permutations/dme_3d_ds5_clean_spin_41k_5000_v2_dk.npy\", nulls_dk)"
   ]
  },
  {
   "cell_type": "code",
   "execution_count": null,
   "metadata": {},
   "outputs": [],
   "source": []
  }
 ],
 "metadata": {
  "kernelspec": {
   "display_name": "Python 3 (ipykernel)",
   "language": "python",
   "name": "python3"
  },
  "orig_nbformat": 4
 },
 "nbformat": 4,
 "nbformat_minor": 2
}
