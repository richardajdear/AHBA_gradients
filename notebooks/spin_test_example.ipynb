{
 "cells": [
  {
   "cell_type": "markdown",
   "metadata": {},
   "source": [
    "# Spin test example (DK)"
   ]
  },
  {
   "cell_type": "code",
   "execution_count": 3,
   "metadata": {},
   "outputs": [
    {
     "name": "stdout",
     "output_type": "stream",
     "text": [
      "[Errno 2] No such file or directory: 'work/notebooks'\n",
      "/home/jovyan/work/notebooks\n"
     ]
    }
   ],
   "source": [
    "%cd work/notebooks\n",
    "import sys\n",
    "sys.path.append('/home/jovyan/work/code')"
   ]
  },
  {
   "cell_type": "code",
   "execution_count": 12,
   "metadata": {},
   "outputs": [
    {
     "name": "stdout",
     "output_type": "stream",
     "text": [
      "The autoreload extension is already loaded. To reload it, use:\n",
      "  %reload_ext autoreload\n"
     ]
    }
   ],
   "source": [
    "import numpy as np, pandas as pd\n",
    "%load_ext autoreload\n",
    "%autoreload 2\n",
    "\n",
    "from maps_null_test import *"
   ]
  },
  {
   "cell_type": "markdown",
   "metadata": {},
   "source": [
    "Read in the component scores (i.e. the set of maps from which we will create the nulls)"
   ]
  },
  {
   "cell_type": "code",
   "execution_count": 9,
   "metadata": {},
   "outputs": [
    {
     "name": "stdout",
     "output_type": "stream",
     "text": [
      "(34, 3)\n"
     ]
    },
    {
     "data": {
      "text/html": [
       "<div>\n",
       "<style scoped>\n",
       "    .dataframe tbody tr th:only-of-type {\n",
       "        vertical-align: middle;\n",
       "    }\n",
       "\n",
       "    .dataframe tbody tr th {\n",
       "        vertical-align: top;\n",
       "    }\n",
       "\n",
       "    .dataframe thead th {\n",
       "        text-align: right;\n",
       "    }\n",
       "</style>\n",
       "<table border=\"1\" class=\"dataframe\">\n",
       "  <thead>\n",
       "    <tr style=\"text-align: right;\">\n",
       "      <th></th>\n",
       "      <th>0</th>\n",
       "      <th>1</th>\n",
       "      <th>2</th>\n",
       "    </tr>\n",
       "  </thead>\n",
       "  <tbody>\n",
       "    <tr>\n",
       "      <th>1</th>\n",
       "      <td>0.003891</td>\n",
       "      <td>-0.001043</td>\n",
       "      <td>0.006489</td>\n",
       "    </tr>\n",
       "    <tr>\n",
       "      <th>2</th>\n",
       "      <td>-0.027211</td>\n",
       "      <td>0.004315</td>\n",
       "      <td>-0.009972</td>\n",
       "    </tr>\n",
       "    <tr>\n",
       "      <th>3</th>\n",
       "      <td>0.004218</td>\n",
       "      <td>0.015102</td>\n",
       "      <td>-0.001141</td>\n",
       "    </tr>\n",
       "    <tr>\n",
       "      <th>4</th>\n",
       "      <td>0.046988</td>\n",
       "      <td>-0.015012</td>\n",
       "      <td>-0.009495</td>\n",
       "    </tr>\n",
       "    <tr>\n",
       "      <th>5</th>\n",
       "      <td>-0.036813</td>\n",
       "      <td>-0.007071</td>\n",
       "      <td>-0.013166</td>\n",
       "    </tr>\n",
       "  </tbody>\n",
       "</table>\n",
       "</div>"
      ],
      "text/plain": [
       "          0         1         2\n",
       "1  0.003891 -0.001043  0.006489\n",
       "2 -0.027211  0.004315 -0.009972\n",
       "3  0.004218  0.015102 -0.001141\n",
       "4  0.046988 -0.015012 -0.009495\n",
       "5 -0.036813 -0.007071 -0.013166"
      ]
     },
     "execution_count": 9,
     "metadata": {},
     "output_type": "execute_result"
    }
   ],
   "source": [
    "scores_dk = pd.read_csv(\"../outputs/scores_dk.csv\", index_col=0)\n",
    "print(scores_dk.shape)\n",
    "scores_dk.head()"
   ]
  },
  {
   "cell_type": "markdown",
   "metadata": {},
   "source": [
    "Read in the maps we want to test the scores against"
   ]
  },
  {
   "cell_type": "code",
   "execution_count": 10,
   "metadata": {},
   "outputs": [
    {
     "name": "stdout",
     "output_type": "stream",
     "text": [
      "(34, 7)\n"
     ]
    },
    {
     "data": {
      "text/html": [
       "<div>\n",
       "<style scoped>\n",
       "    .dataframe tbody tr th:only-of-type {\n",
       "        vertical-align: middle;\n",
       "    }\n",
       "\n",
       "    .dataframe tbody tr th {\n",
       "        vertical-align: top;\n",
       "    }\n",
       "\n",
       "    .dataframe thead th {\n",
       "        text-align: right;\n",
       "    }\n",
       "</style>\n",
       "<table border=\"1\" class=\"dataframe\">\n",
       "  <thead>\n",
       "    <tr style=\"text-align: right;\">\n",
       "      <th></th>\n",
       "      <th>AD</th>\n",
       "      <th>ADHD</th>\n",
       "      <th>ANX</th>\n",
       "      <th>ASD</th>\n",
       "      <th>MCI</th>\n",
       "      <th>MDD</th>\n",
       "      <th>SCZ</th>\n",
       "    </tr>\n",
       "  </thead>\n",
       "  <tbody>\n",
       "    <tr>\n",
       "      <th>bankssts</th>\n",
       "      <td>-0.275</td>\n",
       "      <td>0.014</td>\n",
       "      <td>0.000</td>\n",
       "      <td>-0.010</td>\n",
       "      <td>-0.135</td>\n",
       "      <td>-0.008</td>\n",
       "      <td>-0.078</td>\n",
       "    </tr>\n",
       "    <tr>\n",
       "      <th>caudal anterior cingulate</th>\n",
       "      <td>-0.110</td>\n",
       "      <td>0.036</td>\n",
       "      <td>0.001</td>\n",
       "      <td>-0.039</td>\n",
       "      <td>-0.023</td>\n",
       "      <td>0.009</td>\n",
       "      <td>-0.049</td>\n",
       "    </tr>\n",
       "    <tr>\n",
       "      <th>caudal middle frontal</th>\n",
       "      <td>-0.153</td>\n",
       "      <td>-0.002</td>\n",
       "      <td>-0.006</td>\n",
       "      <td>-0.033</td>\n",
       "      <td>-0.072</td>\n",
       "      <td>-0.011</td>\n",
       "      <td>-0.088</td>\n",
       "    </tr>\n",
       "    <tr>\n",
       "      <th>cuneus</th>\n",
       "      <td>-0.032</td>\n",
       "      <td>0.016</td>\n",
       "      <td>-0.006</td>\n",
       "      <td>0.010</td>\n",
       "      <td>-0.026</td>\n",
       "      <td>-0.027</td>\n",
       "      <td>-0.066</td>\n",
       "    </tr>\n",
       "    <tr>\n",
       "      <th>entorhinal</th>\n",
       "      <td>-0.332</td>\n",
       "      <td>0.038</td>\n",
       "      <td>-0.010</td>\n",
       "      <td>-0.024</td>\n",
       "      <td>-0.226</td>\n",
       "      <td>-0.011</td>\n",
       "      <td>-0.055</td>\n",
       "    </tr>\n",
       "  </tbody>\n",
       "</table>\n",
       "</div>"
      ],
      "text/plain": [
       "                              AD   ADHD    ANX    ASD    MCI    MDD    SCZ\n",
       "bankssts                  -0.275  0.014  0.000 -0.010 -0.135 -0.008 -0.078\n",
       "caudal anterior cingulate -0.110  0.036  0.001 -0.039 -0.023  0.009 -0.049\n",
       "caudal middle frontal     -0.153 -0.002 -0.006 -0.033 -0.072 -0.011 -0.088\n",
       "cuneus                    -0.032  0.016 -0.006  0.010 -0.026 -0.027 -0.066\n",
       "entorhinal                -0.332  0.038 -0.010 -0.024 -0.226 -0.011 -0.055"
      ]
     },
     "execution_count": 10,
     "metadata": {},
     "output_type": "execute_result"
    }
   ],
   "source": [
    "maps_dk = pd.read_csv(\"../data/brainchart_maps_dk.csv\", index_col=0)\n",
    "print(maps_dk.shape)\n",
    "maps_dk.head()"
   ]
  },
  {
   "cell_type": "markdown",
   "metadata": {},
   "source": [
    "Generate spins of the fsaverage sphere (do this once so we don't repeat it for every component)"
   ]
  },
  {
   "cell_type": "code",
   "execution_count": 14,
   "metadata": {},
   "outputs": [
    {
     "name": "stdout",
     "output_type": "stream",
     "text": [
      "                            10\n",
      "Saved spins to ../outputs/permutations/test_10.npy\n",
      "\n",
      "Generated 1 blocks of 10 spins at density 41k\n"
     ]
    },
    {
     "data": {
      "text/plain": [
       "(81924, 10)"
      ]
     },
     "execution_count": 14,
     "metadata": {},
     "output_type": "execute_result"
    }
   ],
   "source": [
    "generate_spins(n=10, save_name='test_10')\n",
    "spins = np.load(\"../outputs/permutations/test_10.npy\")\n",
    "spins.shape"
   ]
  },
  {
   "cell_type": "markdown",
   "metadata": {},
   "source": [
    "Use the spins to generate null models of the scores\n",
    "\n",
    "Output is a numpy array with shape [n regions, n components, n spins]"
   ]
  },
  {
   "cell_type": "code",
   "execution_count": 17,
   "metadata": {},
   "outputs": [
    {
     "name": "stdout",
     "output_type": "stream",
     "text": [
      "\n",
      "Generated 10 null spins of component 0\n",
      "\n",
      "Generated 10 null spins of component 1\n",
      "\n",
      "Generated 10 null spins of component 2\n",
      "Saved null spins to ../outputs/permutations/spin_10.npy\n"
     ]
    },
    {
     "data": {
      "text/plain": [
       "(34, 3, 10)"
      ]
     },
     "execution_count": 17,
     "metadata": {},
     "output_type": "execute_result"
    }
   ],
   "source": [
    "generate_nulls_from_components(scores_dk, spins, atlas='dk', n=10)\n",
    "nulls = np.load(\"../outputs/permutations/spin_10.npy\")\n",
    "nulls.shape"
   ]
  },
  {
   "cell_type": "markdown",
   "metadata": {},
   "source": [
    "Finally, do the null test of each map against each component"
   ]
  },
  {
   "cell_type": "code",
   "execution_count": 20,
   "metadata": {},
   "outputs": [
    {
     "data": {
      "text/html": [
       "<div>\n",
       "<style scoped>\n",
       "    .dataframe tbody tr th:only-of-type {\n",
       "        vertical-align: middle;\n",
       "    }\n",
       "\n",
       "    .dataframe tbody tr th {\n",
       "        vertical-align: top;\n",
       "    }\n",
       "\n",
       "    .dataframe thead th {\n",
       "        text-align: right;\n",
       "    }\n",
       "</style>\n",
       "<table border=\"1\" class=\"dataframe\">\n",
       "  <thead>\n",
       "    <tr style=\"text-align: right;\">\n",
       "      <th></th>\n",
       "      <th>C</th>\n",
       "      <th>map</th>\n",
       "      <th>r</th>\n",
       "      <th>p</th>\n",
       "      <th>q</th>\n",
       "    </tr>\n",
       "  </thead>\n",
       "  <tbody>\n",
       "    <tr>\n",
       "      <th>0</th>\n",
       "      <td>0</td>\n",
       "      <td>AD</td>\n",
       "      <td>0.517057</td>\n",
       "      <td>0.090909</td>\n",
       "      <td>0.381818</td>\n",
       "    </tr>\n",
       "    <tr>\n",
       "      <th>1</th>\n",
       "      <td>0</td>\n",
       "      <td>ADHD</td>\n",
       "      <td>-0.423644</td>\n",
       "      <td>0.181818</td>\n",
       "      <td>0.477273</td>\n",
       "    </tr>\n",
       "    <tr>\n",
       "      <th>2</th>\n",
       "      <td>0</td>\n",
       "      <td>ANX</td>\n",
       "      <td>0.102270</td>\n",
       "      <td>0.636364</td>\n",
       "      <td>0.890909</td>\n",
       "    </tr>\n",
       "    <tr>\n",
       "      <th>3</th>\n",
       "      <td>0</td>\n",
       "      <td>ASD</td>\n",
       "      <td>0.473226</td>\n",
       "      <td>0.090909</td>\n",
       "      <td>0.381818</td>\n",
       "    </tr>\n",
       "    <tr>\n",
       "      <th>4</th>\n",
       "      <td>0</td>\n",
       "      <td>MCI</td>\n",
       "      <td>0.480764</td>\n",
       "      <td>0.090909</td>\n",
       "      <td>0.381818</td>\n",
       "    </tr>\n",
       "    <tr>\n",
       "      <th>5</th>\n",
       "      <td>0</td>\n",
       "      <td>MDD</td>\n",
       "      <td>-0.284355</td>\n",
       "      <td>0.181818</td>\n",
       "      <td>0.477273</td>\n",
       "    </tr>\n",
       "    <tr>\n",
       "      <th>6</th>\n",
       "      <td>0</td>\n",
       "      <td>SCZ</td>\n",
       "      <td>0.003687</td>\n",
       "      <td>1.000000</td>\n",
       "      <td>1.000000</td>\n",
       "    </tr>\n",
       "    <tr>\n",
       "      <th>7</th>\n",
       "      <td>1</td>\n",
       "      <td>AD</td>\n",
       "      <td>0.141781</td>\n",
       "      <td>0.909091</td>\n",
       "      <td>1.000000</td>\n",
       "    </tr>\n",
       "    <tr>\n",
       "      <th>8</th>\n",
       "      <td>1</td>\n",
       "      <td>ADHD</td>\n",
       "      <td>-0.133631</td>\n",
       "      <td>0.454545</td>\n",
       "      <td>0.734266</td>\n",
       "    </tr>\n",
       "    <tr>\n",
       "      <th>9</th>\n",
       "      <td>1</td>\n",
       "      <td>ANX</td>\n",
       "      <td>0.008781</td>\n",
       "      <td>1.000000</td>\n",
       "      <td>1.000000</td>\n",
       "    </tr>\n",
       "    <tr>\n",
       "      <th>10</th>\n",
       "      <td>1</td>\n",
       "      <td>ASD</td>\n",
       "      <td>-0.274698</td>\n",
       "      <td>0.090909</td>\n",
       "      <td>0.381818</td>\n",
       "    </tr>\n",
       "    <tr>\n",
       "      <th>11</th>\n",
       "      <td>1</td>\n",
       "      <td>MCI</td>\n",
       "      <td>0.106849</td>\n",
       "      <td>1.000000</td>\n",
       "      <td>1.000000</td>\n",
       "    </tr>\n",
       "    <tr>\n",
       "      <th>12</th>\n",
       "      <td>1</td>\n",
       "      <td>MDD</td>\n",
       "      <td>0.216469</td>\n",
       "      <td>0.363636</td>\n",
       "      <td>0.734266</td>\n",
       "    </tr>\n",
       "    <tr>\n",
       "      <th>13</th>\n",
       "      <td>1</td>\n",
       "      <td>SCZ</td>\n",
       "      <td>-0.239551</td>\n",
       "      <td>0.636364</td>\n",
       "      <td>0.890909</td>\n",
       "    </tr>\n",
       "    <tr>\n",
       "      <th>14</th>\n",
       "      <td>2</td>\n",
       "      <td>AD</td>\n",
       "      <td>-0.405990</td>\n",
       "      <td>0.181818</td>\n",
       "      <td>0.477273</td>\n",
       "    </tr>\n",
       "    <tr>\n",
       "      <th>15</th>\n",
       "      <td>2</td>\n",
       "      <td>ADHD</td>\n",
       "      <td>0.065995</td>\n",
       "      <td>0.818182</td>\n",
       "      <td>1.000000</td>\n",
       "    </tr>\n",
       "    <tr>\n",
       "      <th>16</th>\n",
       "      <td>2</td>\n",
       "      <td>ANX</td>\n",
       "      <td>-0.214241</td>\n",
       "      <td>0.454545</td>\n",
       "      <td>0.734266</td>\n",
       "    </tr>\n",
       "    <tr>\n",
       "      <th>17</th>\n",
       "      <td>2</td>\n",
       "      <td>ASD</td>\n",
       "      <td>-0.084610</td>\n",
       "      <td>0.909091</td>\n",
       "      <td>1.000000</td>\n",
       "    </tr>\n",
       "    <tr>\n",
       "      <th>18</th>\n",
       "      <td>2</td>\n",
       "      <td>MCI</td>\n",
       "      <td>-0.271727</td>\n",
       "      <td>0.454545</td>\n",
       "      <td>0.734266</td>\n",
       "    </tr>\n",
       "    <tr>\n",
       "      <th>19</th>\n",
       "      <td>2</td>\n",
       "      <td>MDD</td>\n",
       "      <td>-0.124222</td>\n",
       "      <td>0.454545</td>\n",
       "      <td>0.734266</td>\n",
       "    </tr>\n",
       "    <tr>\n",
       "      <th>20</th>\n",
       "      <td>2</td>\n",
       "      <td>SCZ</td>\n",
       "      <td>-0.433060</td>\n",
       "      <td>0.090909</td>\n",
       "      <td>0.381818</td>\n",
       "    </tr>\n",
       "  </tbody>\n",
       "</table>\n",
       "</div>"
      ],
      "text/plain": [
       "    C   map         r         p         q\n",
       "0   0    AD  0.517057  0.090909  0.381818\n",
       "1   0  ADHD -0.423644  0.181818  0.477273\n",
       "2   0   ANX  0.102270  0.636364  0.890909\n",
       "3   0   ASD  0.473226  0.090909  0.381818\n",
       "4   0   MCI  0.480764  0.090909  0.381818\n",
       "5   0   MDD -0.284355  0.181818  0.477273\n",
       "6   0   SCZ  0.003687  1.000000  1.000000\n",
       "7   1    AD  0.141781  0.909091  1.000000\n",
       "8   1  ADHD -0.133631  0.454545  0.734266\n",
       "9   1   ANX  0.008781  1.000000  1.000000\n",
       "10  1   ASD -0.274698  0.090909  0.381818\n",
       "11  1   MCI  0.106849  1.000000  1.000000\n",
       "12  1   MDD  0.216469  0.363636  0.734266\n",
       "13  1   SCZ -0.239551  0.636364  0.890909\n",
       "14  2    AD -0.405990  0.181818  0.477273\n",
       "15  2  ADHD  0.065995  0.818182  1.000000\n",
       "16  2   ANX -0.214241  0.454545  0.734266\n",
       "17  2   ASD -0.084610  0.909091  1.000000\n",
       "18  2   MCI -0.271727  0.454545  0.734266\n",
       "19  2   MDD -0.124222  0.454545  0.734266\n",
       "20  2   SCZ -0.433060  0.090909  0.381818"
      ]
     },
     "execution_count": 20,
     "metadata": {},
     "output_type": "execute_result"
    }
   ],
   "source": [
    "correlate_maps_with_null_scores(nulls, scores_dk, maps_dk)"
   ]
  }
 ],
 "metadata": {
  "kernelspec": {
   "display_name": "base",
   "language": "python",
   "name": "python3"
  },
  "language_info": {
   "codemirror_mode": {
    "name": "ipython",
    "version": 3
   },
   "file_extension": ".py",
   "mimetype": "text/x-python",
   "name": "python",
   "nbconvert_exporter": "python",
   "pygments_lexer": "ipython3",
   "version": "3.10.5"
  },
  "orig_nbformat": 4
 },
 "nbformat": 4,
 "nbformat_minor": 2
}
