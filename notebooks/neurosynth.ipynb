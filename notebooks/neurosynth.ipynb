{
 "cells": [
  {
   "cell_type": "markdown",
   "id": "14efab03-4cd6-4deb-8a97-706f92b23b97",
   "metadata": {},
   "source": [
    "# Neurosynth"
   ]
  },
  {
   "cell_type": "markdown",
   "id": "d43a3262-1f6a-4682-ba03-de7756baa34e",
   "metadata": {},
   "source": [
    "See if we get interesting results in neurosynth"
   ]
  },
  {
   "cell_type": "code",
   "execution_count": 2,
   "id": "a2bdd276-5788-4e70-b459-9276193f70a1",
   "metadata": {},
   "outputs": [],
   "source": [
    "# Import modules and R\n",
    "import numpy as np, pandas as pd\n",
    "%load_ext rpy2.ipython\n",
    "%load_ext autoreload\n",
    "%autoreload 2"
   ]
  },
  {
   "cell_type": "code",
   "execution_count": 5,
   "id": "5f2b3ce1-4167-4fa6-a171-b7c8aa8560f9",
   "metadata": {
    "jupyter": {
     "source_hidden": true
    },
    "tags": []
   },
   "outputs": [],
   "source": [
    "# Import local code\n",
    "import sys\n",
    "sys.path.append('../code')\n",
    "from gradientVersion import *\n",
    "from processing_helpers import *\n",
    "from analysis_helpers import *\n",
    "from triplets import *\n",
    "from mri_maps import *\n",
    "from enrichments import *\n",
    "from brainspan import *\n",
    "%R source(\"../code/Rplots.R\");\n",
    "%R source(\"../code/brainPlots.R\");\n",
    "%R source(\"../code/enrichmentsPlots.R\");\n",
    "%R source(\"../code/plot_maps.R\");\n",
    "%R source(\"../code/brainspanPlots.R\");"
   ]
  },
  {
   "cell_type": "code",
   "execution_count": 6,
   "id": "131c8619-70e7-49f5-bce5-1fa6251d861d",
   "metadata": {},
   "outputs": [
    {
     "name": "stdout",
     "output_type": "stream",
     "text": [
      "New gradients version: method=dm, kernel=normalized_angle, sparsity=0, data=hcp_3donors_ds5\n",
      "New gradients version: method=dm, kernel=normalized_angle, sparsity=0, data=hcp_ds9\n"
     ]
    }
   ],
   "source": [
    "dm_hcp_3d_ds5 = gradientVersion(approach='dm', kernel='normalized_angle', alpha=1).fit('hcp_3donors_ds5')\n",
    "dm_hcp_ds9 = gradientVersion(approach='dm', kernel='normalized_angle', alpha=1).fit('hcp_ds9')"
   ]
  },
  {
   "cell_type": "markdown",
   "id": "4cca75bf-6d45-4e66-9b5c-f4073dff5be5",
   "metadata": {},
   "source": [
    "## Use Justine's compiled version?"
   ]
  },
  {
   "cell_type": "markdown",
   "id": "c219d527-c990-4db3-ae6e-a05d047a9045",
   "metadata": {},
   "source": [
    "Wrong parcellation ... sigh"
   ]
  },
  {
   "cell_type": "code",
   "execution_count": 52,
   "id": "2f89e79e-7416-4ee3-91d2-350c5f35d3f0",
   "metadata": {},
   "outputs": [],
   "source": [
    "from pymatreader import read_mat\n",
    "from scipy.io import loadmat"
   ]
  },
  {
   "cell_type": "code",
   "execution_count": 65,
   "id": "a793104f-d9f2-448f-a0cf-ee2c41043d7b",
   "metadata": {},
   "outputs": [],
   "source": [
    "terms = [x[0] for x in loadmat('../data/neurosynth/terms.mat')['terms'][0][0][2][0]]"
   ]
  },
  {
   "cell_type": "code",
   "execution_count": 68,
   "id": "3cc362f6-d2c2-4dde-a6ce-1fa1a051faff",
   "metadata": {},
   "outputs": [
    {
     "data": {
      "text/plain": [
       "(234, 123)"
      ]
     },
     "execution_count": 68,
     "metadata": {},
     "output_type": "execute_result"
    }
   ],
   "source": [
    "loadmat('../data/neurosynth/neurosynth.mat')['cogact125']"
   ]
  },
  {
   "cell_type": "markdown",
   "id": "cf9fb812-7daf-479f-9beb-ed71c51b7264",
   "metadata": {},
   "source": [
    "## Try to use neurosynth directly..."
   ]
  },
  {
   "cell_type": "markdown",
   "id": "70abc024-05dd-4186-a70b-f1540341d2e4",
   "metadata": {},
   "source": [
    "Try to parcellate neurosynth"
   ]
  },
  {
   "cell_type": "code",
   "execution_count": 98,
   "id": "49483212-5e75-4b9b-a7f3-50774eb7f531",
   "metadata": {},
   "outputs": [
    {
     "data": {
      "text/plain": [
       "{'indices': array([   23,   249,   338, ..., 13509, 13991, 14053], dtype=int32),\n",
       " 'indptr': array([      0,     147,     288, ..., 1049122, 1049225, 1049299],\n",
       "       dtype=int32),\n",
       " 'format': array(b'csc', dtype='|S3'),\n",
       " 'shape': array([14371,  3228]),\n",
       " 'data': array([0.05539422, 0.09387571, 0.06899317, ..., 0.38408549, 0.09388443,\n",
       "        0.10071574])}"
      ]
     },
     "execution_count": 98,
     "metadata": {},
     "output_type": "execute_result"
    }
   ],
   "source": [
    "dict(np.load('../data/neurosynth/data-neurosynth_version-7_vocab-terms_source-abstract_type-tfidf_features.npz'))"
   ]
  },
  {
   "cell_type": "code",
   "execution_count": 103,
   "id": "92676ba5-ce6b-4286-90d9-63ac37798e21",
   "metadata": {},
   "outputs": [
    {
     "data": {
      "text/html": [
       "<div>\n",
       "<style scoped>\n",
       "    .dataframe tbody tr th:only-of-type {\n",
       "        vertical-align: middle;\n",
       "    }\n",
       "\n",
       "    .dataframe tbody tr th {\n",
       "        vertical-align: top;\n",
       "    }\n",
       "\n",
       "    .dataframe thead th {\n",
       "        text-align: right;\n",
       "    }\n",
       "</style>\n",
       "<table border=\"1\" class=\"dataframe\">\n",
       "  <thead>\n",
       "    <tr style=\"text-align: right;\">\n",
       "      <th></th>\n",
       "      <th>0</th>\n",
       "    </tr>\n",
       "  </thead>\n",
       "  <tbody>\n",
       "    <tr>\n",
       "      <th>0</th>\n",
       "      <td>001</td>\n",
       "    </tr>\n",
       "    <tr>\n",
       "      <th>1</th>\n",
       "      <td>01</td>\n",
       "    </tr>\n",
       "    <tr>\n",
       "      <th>2</th>\n",
       "      <td>05</td>\n",
       "    </tr>\n",
       "    <tr>\n",
       "      <th>3</th>\n",
       "      <td>10</td>\n",
       "    </tr>\n",
       "    <tr>\n",
       "      <th>4</th>\n",
       "      <td>100</td>\n",
       "    </tr>\n",
       "    <tr>\n",
       "      <th>...</th>\n",
       "      <td>...</td>\n",
       "    </tr>\n",
       "    <tr>\n",
       "      <th>3223</th>\n",
       "      <td>young older</td>\n",
       "    </tr>\n",
       "    <tr>\n",
       "      <th>3224</th>\n",
       "      <td>younger</td>\n",
       "    </tr>\n",
       "    <tr>\n",
       "      <th>3225</th>\n",
       "      <td>younger adults</td>\n",
       "    </tr>\n",
       "    <tr>\n",
       "      <th>3226</th>\n",
       "      <td>youth</td>\n",
       "    </tr>\n",
       "    <tr>\n",
       "      <th>3227</th>\n",
       "      <td>zone</td>\n",
       "    </tr>\n",
       "  </tbody>\n",
       "</table>\n",
       "<p>3228 rows × 1 columns</p>\n",
       "</div>"
      ],
      "text/plain": [
       "                   0\n",
       "0                001\n",
       "1                 01\n",
       "2                 05\n",
       "3                 10\n",
       "4                100\n",
       "...              ...\n",
       "3223     young older\n",
       "3224         younger\n",
       "3225  younger adults\n",
       "3226           youth\n",
       "3227            zone\n",
       "\n",
       "[3228 rows x 1 columns]"
      ]
     },
     "execution_count": 103,
     "metadata": {},
     "output_type": "execute_result"
    }
   ],
   "source": [
    "pd.read_csv('../data/neurosynth/data-neurosynth_version-7_vocab-terms_vocabulary.txt', header=None)"
   ]
  },
  {
   "cell_type": "code",
   "execution_count": 92,
   "id": "4fd1e399-483f-4586-8eb7-d1c8a1b71991",
   "metadata": {},
   "outputs": [
    {
     "data": {
      "text/html": [
       "<div>\n",
       "<style scoped>\n",
       "    .dataframe tbody tr th:only-of-type {\n",
       "        vertical-align: middle;\n",
       "    }\n",
       "\n",
       "    .dataframe tbody tr th {\n",
       "        vertical-align: top;\n",
       "    }\n",
       "\n",
       "    .dataframe thead th {\n",
       "        text-align: right;\n",
       "    }\n",
       "</style>\n",
       "<table border=\"1\" class=\"dataframe\">\n",
       "  <thead>\n",
       "    <tr style=\"text-align: right;\">\n",
       "      <th></th>\n",
       "      <th>id</th>\n",
       "      <th>table_id</th>\n",
       "      <th>table_num</th>\n",
       "      <th>peak_id</th>\n",
       "      <th>x</th>\n",
       "      <th>y</th>\n",
       "      <th>z</th>\n",
       "    </tr>\n",
       "  </thead>\n",
       "  <tbody>\n",
       "    <tr>\n",
       "      <th>0</th>\n",
       "      <td>9065511</td>\n",
       "      <td>28698</td>\n",
       "      <td>1.</td>\n",
       "      <td>548691</td>\n",
       "      <td>38.0</td>\n",
       "      <td>-48.0</td>\n",
       "      <td>49.0</td>\n",
       "    </tr>\n",
       "    <tr>\n",
       "      <th>1</th>\n",
       "      <td>9065511</td>\n",
       "      <td>28698</td>\n",
       "      <td>1.</td>\n",
       "      <td>548699</td>\n",
       "      <td>52.0</td>\n",
       "      <td>-62.0</td>\n",
       "      <td>14.0</td>\n",
       "    </tr>\n",
       "    <tr>\n",
       "      <th>2</th>\n",
       "      <td>9065511</td>\n",
       "      <td>28698</td>\n",
       "      <td>1.</td>\n",
       "      <td>548698</td>\n",
       "      <td>-25.0</td>\n",
       "      <td>-45.0</td>\n",
       "      <td>-2.0</td>\n",
       "    </tr>\n",
       "    <tr>\n",
       "      <th>3</th>\n",
       "      <td>9065511</td>\n",
       "      <td>28698</td>\n",
       "      <td>1.</td>\n",
       "      <td>548697</td>\n",
       "      <td>25.0</td>\n",
       "      <td>-35.0</td>\n",
       "      <td>-8.0</td>\n",
       "    </tr>\n",
       "    <tr>\n",
       "      <th>4</th>\n",
       "      <td>9065511</td>\n",
       "      <td>28698</td>\n",
       "      <td>1.</td>\n",
       "      <td>548696</td>\n",
       "      <td>42.0</td>\n",
       "      <td>-47.0</td>\n",
       "      <td>-19.0</td>\n",
       "    </tr>\n",
       "    <tr>\n",
       "      <th>...</th>\n",
       "      <td>...</td>\n",
       "      <td>...</td>\n",
       "      <td>...</td>\n",
       "      <td>...</td>\n",
       "      <td>...</td>\n",
       "      <td>...</td>\n",
       "      <td>...</td>\n",
       "    </tr>\n",
       "    <tr>\n",
       "      <th>507886</th>\n",
       "      <td>29845006</td>\n",
       "      <td>35711</td>\n",
       "      <td>05</td>\n",
       "      <td>686520</td>\n",
       "      <td>27.0</td>\n",
       "      <td>50.0</td>\n",
       "      <td>23.0</td>\n",
       "    </tr>\n",
       "    <tr>\n",
       "      <th>507887</th>\n",
       "      <td>29845006</td>\n",
       "      <td>35711</td>\n",
       "      <td>05</td>\n",
       "      <td>686519</td>\n",
       "      <td>-28.0</td>\n",
       "      <td>51.0</td>\n",
       "      <td>15.0</td>\n",
       "    </tr>\n",
       "    <tr>\n",
       "      <th>507888</th>\n",
       "      <td>29845006</td>\n",
       "      <td>35711</td>\n",
       "      <td>05</td>\n",
       "      <td>686535</td>\n",
       "      <td>10.0</td>\n",
       "      <td>-69.0</td>\n",
       "      <td>39.0</td>\n",
       "    </tr>\n",
       "    <tr>\n",
       "      <th>507889</th>\n",
       "      <td>29845006</td>\n",
       "      <td>35711</td>\n",
       "      <td>05</td>\n",
       "      <td>686526</td>\n",
       "      <td>36.0</td>\n",
       "      <td>16.0</td>\n",
       "      <td>4.0</td>\n",
       "    </tr>\n",
       "    <tr>\n",
       "      <th>507890</th>\n",
       "      <td>29845006</td>\n",
       "      <td>35711</td>\n",
       "      <td>05</td>\n",
       "      <td>686536</td>\n",
       "      <td>0.0</td>\n",
       "      <td>-29.0</td>\n",
       "      <td>30.0</td>\n",
       "    </tr>\n",
       "  </tbody>\n",
       "</table>\n",
       "<p>507891 rows × 7 columns</p>\n",
       "</div>"
      ],
      "text/plain": [
       "              id  table_id table_num  peak_id     x     y     z\n",
       "0        9065511     28698        1.   548691  38.0 -48.0  49.0\n",
       "1        9065511     28698        1.   548699  52.0 -62.0  14.0\n",
       "2        9065511     28698        1.   548698 -25.0 -45.0  -2.0\n",
       "3        9065511     28698        1.   548697  25.0 -35.0  -8.0\n",
       "4        9065511     28698        1.   548696  42.0 -47.0 -19.0\n",
       "...          ...       ...       ...      ...   ...   ...   ...\n",
       "507886  29845006     35711        05   686520  27.0  50.0  23.0\n",
       "507887  29845006     35711        05   686519 -28.0  51.0  15.0\n",
       "507888  29845006     35711        05   686535  10.0 -69.0  39.0\n",
       "507889  29845006     35711        05   686526  36.0  16.0   4.0\n",
       "507890  29845006     35711        05   686536   0.0 -29.0  30.0\n",
       "\n",
       "[507891 rows x 7 columns]"
      ]
     },
     "execution_count": 92,
     "metadata": {},
     "output_type": "execute_result"
    }
   ],
   "source": [
    "pd.read_csv('../data/neurosynth/data-neurosynth_version-7_coordinates.tsv', sep='\\t')"
   ]
  },
  {
   "cell_type": "code",
   "execution_count": 87,
   "id": "5c099aba-b053-4ecf-b315-178933bea4e3",
   "metadata": {},
   "outputs": [],
   "source": [
    "import gzip\n",
    "import pickle\n",
    "\n",
    "with gzip.open('../data/neurosynth/neurosynth_dataset.pkl.gz', 'rb') as f:\n",
    "    ns = pickle.load(f)"
   ]
  },
  {
   "cell_type": "code",
   "execution_count": 77,
   "id": "54cd6248-ad45-4e77-b5ec-528cde3d040b",
   "metadata": {},
   "outputs": [
    {
     "data": {
      "text/plain": [
       "Dataset(14371 experiments, space='mni152_2mm')"
      ]
     },
     "execution_count": 77,
     "metadata": {},
     "output_type": "execute_result"
    }
   ],
   "source": [
    "ns"
   ]
  },
  {
   "cell_type": "markdown",
   "id": "2635382f-5deb-4cd3-b650-f13f342958a4",
   "metadata": {},
   "source": [
    "Put gradients into vertices"
   ]
  },
  {
   "cell_type": "code",
   "execution_count": 71,
   "id": "dee9fa98-6808-415d-a993-cf2223319b93",
   "metadata": {},
   "outputs": [],
   "source": [
    "from nilearn.input_data import NiftiLabelsMasker"
   ]
  },
  {
   "cell_type": "code",
   "execution_count": 20,
   "id": "8dfaab75-95e8-448e-9cd2-52d9b11bcdf1",
   "metadata": {},
   "outputs": [],
   "source": [
    "hcp_img_mni = nib.load(\"../data/parcellations/HCPMMP1_on_MNI152_ICBM2009a_nlin.nii.gz\")"
   ]
  },
  {
   "cell_type": "code",
   "execution_count": 9,
   "id": "0df2ed99-4b8b-4668-a67d-7f09a4787c3f",
   "metadata": {},
   "outputs": [],
   "source": [
    "g1 = dm_hcp_ds9.scores[0].reindex(range(1,181)).values"
   ]
  },
  {
   "cell_type": "code",
   "execution_count": null,
   "id": "58895dd9-3919-4a92-9ea1-589443c51f41",
   "metadata": {},
   "outputs": [],
   "source": [
    "from neuromaps.nulls.spins import parcels_to_vertices\n",
    "parcels_to_vertices(img, g1)"
   ]
  },
  {
   "cell_type": "code",
   "execution_count": 21,
   "id": "ba6e96e9-9cc2-43dd-9eeb-893b4c8bea40",
   "metadata": {},
   "outputs": [],
   "source": [
    "data = np.atleast_2d(g1)\n",
    "img = NiftiLabelsMasker(hcp_img_mni).fit().inverse_transform(data)"
   ]
  },
  {
   "cell_type": "code",
   "execution_count": 30,
   "id": "a0e77e1e-ec8c-45e6-96e4-acc6435ac2f5",
   "metadata": {},
   "outputs": [],
   "source": [
    "nib.save(img, \"../outputs/test.nii.gz\")"
   ]
  },
  {
   "cell_type": "markdown",
   "id": "e6cd3932-9647-40b1-8fc9-fa4cba66a8ae",
   "metadata": {},
   "source": [
    "Use nimare to get neurosynth files"
   ]
  },
  {
   "cell_type": "code",
   "execution_count": 35,
   "id": "60d4d5c6-e547-4cc6-8602-b0b997841f3c",
   "metadata": {},
   "outputs": [],
   "source": [
    "import os\n",
    "from pprint import pprint\n",
    "\n",
    "from nimare.extract import download_abstracts, fetch_neuroquery, fetch_neurosynth\n",
    "from nimare.io import convert_neurosynth_to_dataset"
   ]
  },
  {
   "cell_type": "code",
   "execution_count": 36,
   "id": "c0393b12-10f3-4daa-b49b-643faa3c76b6",
   "metadata": {},
   "outputs": [
    {
     "name": "stdout",
     "output_type": "stream",
     "text": [
      "Downloading data-neurosynth_version-7_coordinates.tsv.gz\n",
      "Downloading data-neurosynth_version-7_metadata.tsv.gz\n",
      "Downloading data-neurosynth_version-7_vocab-terms_source-abstract_type-tfidf_features.npz\n",
      "Downloading data-neurosynth_version-7_vocab-terms_vocabulary.txt\n",
      "[{'coordinates': '/home/rajd2/AHBA/data/neurosynth/data-neurosynth_version-7_coordinates.tsv.gz',\n",
      "  'features': [{'features': '/home/rajd2/AHBA/data/neurosynth/data-neurosynth_version-7_vocab-terms_source-abstract_type-tfidf_features.npz',\n",
      "                'vocabulary': '/home/rajd2/AHBA/data/neurosynth/data-neurosynth_version-7_vocab-terms_vocabulary.txt'}],\n",
      "  'metadata': '/home/rajd2/AHBA/data/neurosynth/data-neurosynth_version-7_metadata.tsv.gz'}]\n"
     ]
    }
   ],
   "source": [
    "out_dir = os.path.abspath(\"../data\")\n",
    "os.makedirs(out_dir, exist_ok=True)\n",
    "\n",
    "files = fetch_neurosynth(\n",
    "    data_dir=out_dir,\n",
    "    version=\"7\",\n",
    "    overwrite=False,\n",
    "    source=\"abstract\",\n",
    "    vocab=\"terms\",\n",
    ")\n",
    "# Note that the files are saved to a new folder within \"out_dir\" named \"neurosynth\".\n",
    "pprint(files)\n",
    "neurosynth_db = files[0]"
   ]
  },
  {
   "cell_type": "code",
   "execution_count": 45,
   "id": "af0d04ea-c002-4fc9-b75d-28bd4ed8ed04",
   "metadata": {
    "tags": []
   },
   "outputs": [
    {
     "name": "stderr",
     "output_type": "stream",
     "text": [
      "WARNING: Not applying transforms to coordinates in unrecognized space 'UNKNOWN'\n"
     ]
    },
    {
     "name": "stdout",
     "output_type": "stream",
     "text": [
      "Dataset(14371 experiments, space='mni152_2mm')\n"
     ]
    }
   ],
   "source": [
    "neurosynth_dset = convert_neurosynth_to_dataset(\n",
    "    coordinates_file=neurosynth_db[\"coordinates\"],\n",
    "    metadata_file=neurosynth_db[\"metadata\"],\n",
    "    annotations_files=neurosynth_db[\"features\"],\n",
    ")\n",
    "neurosynth_dset.save(os.path.join(out_dir, \"neurosynth_dataset.pkl.gz\"))\n",
    "print(neurosynth_dset)"
   ]
  },
  {
   "cell_type": "code",
   "execution_count": 47,
   "id": "b92425a9-8560-461f-9527-bd764276e46c",
   "metadata": {},
   "outputs": [],
   "source": [
    "from neurosynth import Dataset, meta, decode, network"
   ]
  },
  {
   "cell_type": "code",
   "execution_count": 48,
   "id": "02b60105-71ab-405a-b5d7-72d03945a374",
   "metadata": {},
   "outputs": [
    {
     "ename": "AttributeError",
     "evalue": "'Dataset' object has no attribute 'get_feature_names'",
     "output_type": "error",
     "traceback": [
      "\u001b[0;31m---------------------------------------------------------------------------\u001b[0m",
      "\u001b[0;31mAttributeError\u001b[0m                            Traceback (most recent call last)",
      "\u001b[0;32m<ipython-input-48-757e89cdd06f>\u001b[0m in \u001b[0;36m<module>\u001b[0;34m\u001b[0m\n\u001b[0;32m----> 1\u001b[0;31m \u001b[0mneurosynth_dset\u001b[0m\u001b[0;34m.\u001b[0m\u001b[0mget_feature_names\u001b[0m\u001b[0;34m(\u001b[0m\u001b[0;34m)\u001b[0m\u001b[0;34m\u001b[0m\u001b[0;34m\u001b[0m\u001b[0m\n\u001b[0m",
      "\u001b[0;31mAttributeError\u001b[0m: 'Dataset' object has no attribute 'get_feature_names'"
     ]
    }
   ],
   "source": [
    "neurosynth_dset.get_feature_names()"
   ]
  },
  {
   "cell_type": "code",
   "execution_count": null,
   "id": "6463ddbf-c005-4f6e-885f-684b1095307f",
   "metadata": {},
   "outputs": [],
   "source": []
  }
 ],
 "metadata": {
  "kernelspec": {
   "display_name": "Python 3",
   "language": "python",
   "name": "python3"
  },
  "language_info": {
   "codemirror_mode": {
    "name": "ipython",
    "version": 3
   },
   "file_extension": ".py",
   "mimetype": "text/x-python",
   "name": "python",
   "nbconvert_exporter": "python",
   "pygments_lexer": "ipython3",
   "version": "3.8.6"
  }
 },
 "nbformat": 4,
 "nbformat_minor": 5
}
