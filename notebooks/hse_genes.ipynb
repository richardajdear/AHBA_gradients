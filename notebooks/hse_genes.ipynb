{
 "cells": [
  {
   "cell_type": "markdown",
   "id": "b2dbbb56-1704-49b3-9cb9-08e0d3ec79d2",
   "metadata": {},
   "source": [
    "# Check HSE genes in PCs"
   ]
  },
  {
   "cell_type": "markdown",
   "id": "f754e55b-224e-4ac6-bad9-3b0ba841391a",
   "metadata": {},
   "source": [
    "https://www.pnas.org/content/113/4/E469 suggest that Human Supragranular Enriched genes distinguish cortical areas in humans ... but are they (merely) related to neurons vs glia?"
   ]
  },
  {
   "cell_type": "markdown",
   "id": "2f17f435-4829-42a6-98fe-25c793479371",
   "metadata": {
    "tags": []
   },
   "source": [
    "## Setup"
   ]
  },
  {
   "cell_type": "code",
   "execution_count": 2,
   "id": "73f492f1",
   "metadata": {
    "vscode": {
     "languageId": "python"
    }
   },
   "outputs": [
    {
     "name": "stdout",
     "output_type": "stream",
     "text": [
      "/home/jovyan/work/notebooks\n"
     ]
    }
   ],
   "source": [
    "%cd work/notebooks"
   ]
  },
  {
   "cell_type": "code",
   "execution_count": 3,
   "id": "7834890d-f445-446d-892b-2a8f03b29d17",
   "metadata": {
    "vscode": {
     "languageId": "python"
    }
   },
   "outputs": [],
   "source": [
    "# Import modules and R\n",
    "import numpy as np, pandas as pd\n",
    "%load_ext rpy2.ipython\n",
    "%load_ext autoreload\n",
    "%autoreload 2"
   ]
  },
  {
   "cell_type": "code",
   "execution_count": 4,
   "id": "97047106-db25-4879-9635-d3afe8cecc41",
   "metadata": {
    "tags": [],
    "vscode": {
     "languageId": "python"
    }
   },
   "outputs": [
    {
     "name": "stderr",
     "output_type": "stream",
     "text": [
      "System has not been booted with systemd as init system (PID 1). Can't operate.\n",
      "Failed to connect to bus: Host is down\n"
     ]
    }
   ],
   "source": [
    "# Import local code\n",
    "import sys\n",
    "sys.path.append('../code')\n",
    "from gradientVersion import *\n",
    "from processing_helpers import *\n",
    "from analysis_helpers import *\n",
    "from enrichments import *\n",
    "\n",
    "%R source(\"../code/Rplots.R\");\n",
    "%R source(\"../code/brainPlots.R\");\n",
    "from brainspan import *"
   ]
  },
  {
   "cell_type": "markdown",
   "id": "707a7f9a-a30d-4209-81ed-be1731e96d7f",
   "metadata": {},
   "source": [
    "## Check"
   ]
  },
  {
   "cell_type": "code",
   "execution_count": 5,
   "id": "93c294f3-bb7d-43ab-8ad8-25930759440e",
   "metadata": {
    "vscode": {
     "languageId": "python"
    }
   },
   "outputs": [],
   "source": [
    "hse_genes = [\n",
    "'BEND5',\n",
    "'C1QL2',\n",
    "'CACNA1E',\n",
    "'COL24A1',\n",
    "'COL6A1',\n",
    "'CRYM',\n",
    "'KCNC3',\n",
    "'KCNH4',\n",
    "'LGALS1',\n",
    "'MFGE8',\n",
    "'NEFH',\n",
    "'PRSS12',\n",
    "'SCN3B',\n",
    "'SCN4B',\n",
    "'SNCG',\n",
    "'SV2C',\n",
    "'SYT2',\n",
    "'TPBG',\n",
    "'VAMP1'\n",
    "]"
   ]
  },
  {
   "cell_type": "code",
   "execution_count": 6,
   "id": "df800d7c-0ef4-4f0b-88a4-e7ce646d53d9",
   "metadata": {
    "vscode": {
     "languageId": "python"
    }
   },
   "outputs": [],
   "source": [
    "# data_dir = '../data/abagen-data/expression/'\n",
    "# hcp_3donors_ds5 = pcaVersion(pd.read_csv(data_dir + 'hcp_3donors_ds5.csv', index_col=0))\n",
    "# hcp_3donors_ds9 = pcaVersion(pd.read_csv(data_dir + 'hcp_3donors_ds9.csv', index_col=0))"
   ]
  },
  {
   "cell_type": "code",
   "execution_count": 7,
   "id": "3543ea9f-5a2f-4d06-b16d-2f44d52ff0b0",
   "metadata": {
    "vscode": {
     "languageId": "python"
    }
   },
   "outputs": [
    {
     "name": "stdout",
     "output_type": "stream",
     "text": [
      "New gradients version: method=dm, params={'alpha': 1}, kernel=normalized_angle, sparsity=0, data=hcp_3donors_ds5\n"
     ]
    }
   ],
   "source": [
    "dm_hcp_3d_ds5 = gradientVersion().fit('hcp_3donors_ds5')\n",
    "weights = dm_hcp_3d_ds5.weights"
   ]
  },
  {
   "cell_type": "code",
   "execution_count": 8,
   "id": "da2271df-93eb-4e45-adb8-fdfc7c287336",
   "metadata": {
    "vscode": {
     "languageId": "python"
    }
   },
   "outputs": [],
   "source": [
    "null_weights_shuffle = shuffle_gene_weights(weights, n=10000, rank=False)"
   ]
  },
  {
   "cell_type": "code",
   "execution_count": 9,
   "id": "31c2f1d9-e5c0-41ff-bb5a-6cafe4f9ce3e",
   "metadata": {
    "vscode": {
     "languageId": "python"
    }
   },
   "outputs": [],
   "source": [
    "hse_genes = pd.DataFrame({'gene':hse_genes, 'label':'HSE'})"
   ]
  },
  {
   "cell_type": "code",
   "execution_count": 10,
   "id": "68a41020-2f94-4bdd-94f9-15598cbe1634",
   "metadata": {
    "tags": [],
    "vscode": {
     "languageId": "python"
    }
   },
   "outputs": [],
   "source": [
    "true_, null_ = compute_enrichments(weights.iloc[:,:3], null_weights_shuffle, hse_genes, how='mean')\n",
    "null_p = compute_null_p(true_, null_, adjust='fdr_bh')"
   ]
  },
  {
   "cell_type": "code",
   "execution_count": 11,
   "id": "27814969-19a7-4b43-8831-0dc2a41860a5",
   "metadata": {
    "vscode": {
     "languageId": "python"
    }
   },
   "outputs": [
    {
     "data": {
      "image/png": "[encoded data removed]"
     },
     "metadata": {},
     "output_type": "display_data"
    }
   ],
   "source": [
    "%%R -i null_p -w 15 -h 1.5 --units in -r 100\n",
    "source(\"../code/enrichmentsPlots.R\")\n",
    "plot_enrichment_bars_z(null_p, xlab='z-score of mean of true gene weights vs permutations')"
   ]
  },
  {
   "cell_type": "code",
   "execution_count": 12,
   "id": "4beb0d18-f434-4b18-b5bc-757c7f658ee0",
   "metadata": {
    "vscode": {
     "languageId": "python"
    }
   },
   "outputs": [
    {
     "data": {
      "text/html": [
       "<div>\n",
       "<style scoped>\n",
       "    .dataframe tbody tr th:only-of-type {\n",
       "        vertical-align: middle;\n",
       "    }\n",
       "\n",
       "    .dataframe tbody tr th {\n",
       "        vertical-align: top;\n",
       "    }\n",
       "\n",
       "    .dataframe thead th {\n",
       "        text-align: right;\n",
       "    }\n",
       "</style>\n",
       "<table border=\"1\" class=\"dataframe\">\n",
       "  <thead>\n",
       "    <tr style=\"text-align: right;\">\n",
       "      <th></th>\n",
       "      <th>label</th>\n",
       "      <th>G</th>\n",
       "      <th>pct</th>\n",
       "      <th>true_mean</th>\n",
       "      <th>null_mean</th>\n",
       "      <th>null_std</th>\n",
       "      <th>z</th>\n",
       "      <th>pos</th>\n",
       "      <th>p</th>\n",
       "      <th>q</th>\n",
       "      <th>sig</th>\n",
       "    </tr>\n",
       "  </thead>\n",
       "  <tbody>\n",
       "    <tr>\n",
       "      <th>0</th>\n",
       "      <td>HSE</td>\n",
       "      <td>G1</td>\n",
       "      <td>0.9799</td>\n",
       "      <td>0.468899</td>\n",
       "      <td>0.000722</td>\n",
       "      <td>0.228619</td>\n",
       "      <td>2.047850</td>\n",
       "      <td>True</td>\n",
       "      <td>0.0402</td>\n",
       "      <td>0.0402</td>\n",
       "      <td>True</td>\n",
       "    </tr>\n",
       "    <tr>\n",
       "      <th>1</th>\n",
       "      <td>HSE</td>\n",
       "      <td>G2</td>\n",
       "      <td>0.9977</td>\n",
       "      <td>0.651233</td>\n",
       "      <td>0.000360</td>\n",
       "      <td>0.229735</td>\n",
       "      <td>2.833147</td>\n",
       "      <td>True</td>\n",
       "      <td>0.0046</td>\n",
       "      <td>0.0138</td>\n",
       "      <td>True</td>\n",
       "    </tr>\n",
       "    <tr>\n",
       "      <th>2</th>\n",
       "      <td>HSE</td>\n",
       "      <td>G3</td>\n",
       "      <td>0.0047</td>\n",
       "      <td>-0.599178</td>\n",
       "      <td>-0.001448</td>\n",
       "      <td>0.229946</td>\n",
       "      <td>-2.599438</td>\n",
       "      <td>False</td>\n",
       "      <td>0.0094</td>\n",
       "      <td>0.0141</td>\n",
       "      <td>True</td>\n",
       "    </tr>\n",
       "  </tbody>\n",
       "</table>\n",
       "</div>"
      ],
      "text/plain": [
       "  label   G     pct  true_mean  null_mean  null_std         z    pos       p  \\\n",
       "0   HSE  G1  0.9799   0.468899   0.000722  0.228619  2.047850   True  0.0402   \n",
       "1   HSE  G2  0.9977   0.651233   0.000360  0.229735  2.833147   True  0.0046   \n",
       "2   HSE  G3  0.0047  -0.599178  -0.001448  0.229946 -2.599438  False  0.0094   \n",
       "\n",
       "        q   sig  \n",
       "0  0.0402  True  \n",
       "1  0.0138  True  \n",
       "2  0.0141  True  "
      ]
     },
     "execution_count": 12,
     "metadata": {},
     "output_type": "execute_result"
    }
   ],
   "source": [
    "null_p"
   ]
  },
  {
   "cell_type": "code",
   "execution_count": 22,
   "id": "d2352596-14d2-4b12-8119-54725a9e4bb2",
   "metadata": {
    "vscode": {
     "languageId": "python"
    }
   },
   "outputs": [
    {
     "data": {
      "text/html": [
       "<div>\n",
       "<style scoped>\n",
       "    .dataframe tbody tr th:only-of-type {\n",
       "        vertical-align: middle;\n",
       "    }\n",
       "\n",
       "    .dataframe tbody tr th {\n",
       "        vertical-align: top;\n",
       "    }\n",
       "\n",
       "    .dataframe thead th {\n",
       "        text-align: right;\n",
       "    }\n",
       "</style>\n",
       "<table border=\"1\" class=\"dataframe\">\n",
       "  <thead>\n",
       "    <tr style=\"text-align: right;\">\n",
       "      <th></th>\n",
       "      <th>G1</th>\n",
       "      <th>G2</th>\n",
       "      <th>G3</th>\n",
       "      <th>G4</th>\n",
       "      <th>G5</th>\n",
       "    </tr>\n",
       "  </thead>\n",
       "  <tbody>\n",
       "    <tr>\n",
       "      <th>BEND5</th>\n",
       "      <td>0.66</td>\n",
       "      <td>0.91</td>\n",
       "      <td>0.03</td>\n",
       "      <td>0.06</td>\n",
       "      <td>0.41</td>\n",
       "    </tr>\n",
       "    <tr>\n",
       "      <th>TPBG</th>\n",
       "      <td>0.70</td>\n",
       "      <td>0.98</td>\n",
       "      <td>0.05</td>\n",
       "      <td>0.55</td>\n",
       "      <td>0.74</td>\n",
       "    </tr>\n",
       "    <tr>\n",
       "      <th>PRSS12</th>\n",
       "      <td>0.45</td>\n",
       "      <td>0.91</td>\n",
       "      <td>0.06</td>\n",
       "      <td>0.63</td>\n",
       "      <td>0.35</td>\n",
       "    </tr>\n",
       "    <tr>\n",
       "      <th>KCNH4</th>\n",
       "      <td>0.83</td>\n",
       "      <td>0.07</td>\n",
       "      <td>0.07</td>\n",
       "      <td>0.89</td>\n",
       "      <td>0.35</td>\n",
       "    </tr>\n",
       "    <tr>\n",
       "      <th>CRYM</th>\n",
       "      <td>0.10</td>\n",
       "      <td>0.51</td>\n",
       "      <td>0.07</td>\n",
       "      <td>0.23</td>\n",
       "      <td>0.62</td>\n",
       "    </tr>\n",
       "    <tr>\n",
       "      <th>SNCG</th>\n",
       "      <td>0.34</td>\n",
       "      <td>0.72</td>\n",
       "      <td>0.11</td>\n",
       "      <td>0.09</td>\n",
       "      <td>0.15</td>\n",
       "    </tr>\n",
       "    <tr>\n",
       "      <th>COL24A1</th>\n",
       "      <td>0.48</td>\n",
       "      <td>0.96</td>\n",
       "      <td>0.17</td>\n",
       "      <td>0.80</td>\n",
       "      <td>0.16</td>\n",
       "    </tr>\n",
       "    <tr>\n",
       "      <th>MFGE8</th>\n",
       "      <td>0.76</td>\n",
       "      <td>0.84</td>\n",
       "      <td>0.19</td>\n",
       "      <td>0.21</td>\n",
       "      <td>0.83</td>\n",
       "    </tr>\n",
       "    <tr>\n",
       "      <th>COL6A1</th>\n",
       "      <td>0.92</td>\n",
       "      <td>0.56</td>\n",
       "      <td>0.21</td>\n",
       "      <td>0.28</td>\n",
       "      <td>0.77</td>\n",
       "    </tr>\n",
       "    <tr>\n",
       "      <th>SCN3B</th>\n",
       "      <td>0.01</td>\n",
       "      <td>0.37</td>\n",
       "      <td>0.23</td>\n",
       "      <td>0.31</td>\n",
       "      <td>0.38</td>\n",
       "    </tr>\n",
       "    <tr>\n",
       "      <th>LGALS1</th>\n",
       "      <td>0.55</td>\n",
       "      <td>1.00</td>\n",
       "      <td>0.30</td>\n",
       "      <td>0.30</td>\n",
       "      <td>0.40</td>\n",
       "    </tr>\n",
       "    <tr>\n",
       "      <th>C1QL2</th>\n",
       "      <td>0.20</td>\n",
       "      <td>0.33</td>\n",
       "      <td>0.31</td>\n",
       "      <td>0.02</td>\n",
       "      <td>0.69</td>\n",
       "    </tr>\n",
       "    <tr>\n",
       "      <th>KCNC3</th>\n",
       "      <td>1.00</td>\n",
       "      <td>0.59</td>\n",
       "      <td>0.45</td>\n",
       "      <td>0.49</td>\n",
       "      <td>0.32</td>\n",
       "    </tr>\n",
       "    <tr>\n",
       "      <th>NEFH</th>\n",
       "      <td>0.96</td>\n",
       "      <td>0.95</td>\n",
       "      <td>0.54</td>\n",
       "      <td>0.33</td>\n",
       "      <td>0.44</td>\n",
       "    </tr>\n",
       "    <tr>\n",
       "      <th>SV2C</th>\n",
       "      <td>0.98</td>\n",
       "      <td>0.76</td>\n",
       "      <td>0.59</td>\n",
       "      <td>0.12</td>\n",
       "      <td>0.67</td>\n",
       "    </tr>\n",
       "    <tr>\n",
       "      <th>VAMP1</th>\n",
       "      <td>1.00</td>\n",
       "      <td>0.67</td>\n",
       "      <td>0.61</td>\n",
       "      <td>0.32</td>\n",
       "      <td>0.28</td>\n",
       "    </tr>\n",
       "    <tr>\n",
       "      <th>CACNA1E</th>\n",
       "      <td>0.39</td>\n",
       "      <td>0.05</td>\n",
       "      <td>0.66</td>\n",
       "      <td>0.06</td>\n",
       "      <td>0.44</td>\n",
       "    </tr>\n",
       "    <tr>\n",
       "      <th>SYT2</th>\n",
       "      <td>0.98</td>\n",
       "      <td>0.83</td>\n",
       "      <td>0.76</td>\n",
       "      <td>0.27</td>\n",
       "      <td>0.33</td>\n",
       "    </tr>\n",
       "    <tr>\n",
       "      <th>SCN4B</th>\n",
       "      <td>0.95</td>\n",
       "      <td>0.89</td>\n",
       "      <td>0.78</td>\n",
       "      <td>0.19</td>\n",
       "      <td>0.56</td>\n",
       "    </tr>\n",
       "  </tbody>\n",
       "</table>\n",
       "</div>"
      ],
      "text/plain": [
       "           G1    G2    G3    G4    G5\n",
       "BEND5    0.66  0.91  0.03  0.06  0.41\n",
       "TPBG     0.70  0.98  0.05  0.55  0.74\n",
       "PRSS12   0.45  0.91  0.06  0.63  0.35\n",
       "KCNH4    0.83  0.07  0.07  0.89  0.35\n",
       "CRYM     0.10  0.51  0.07  0.23  0.62\n",
       "SNCG     0.34  0.72  0.11  0.09  0.15\n",
       "COL24A1  0.48  0.96  0.17  0.80  0.16\n",
       "MFGE8    0.76  0.84  0.19  0.21  0.83\n",
       "COL6A1   0.92  0.56  0.21  0.28  0.77\n",
       "SCN3B    0.01  0.37  0.23  0.31  0.38\n",
       "LGALS1   0.55  1.00  0.30  0.30  0.40\n",
       "C1QL2    0.20  0.33  0.31  0.02  0.69\n",
       "KCNC3    1.00  0.59  0.45  0.49  0.32\n",
       "NEFH     0.96  0.95  0.54  0.33  0.44\n",
       "SV2C     0.98  0.76  0.59  0.12  0.67\n",
       "VAMP1    1.00  0.67  0.61  0.32  0.28\n",
       "CACNA1E  0.39  0.05  0.66  0.06  0.44\n",
       "SYT2     0.98  0.83  0.76  0.27  0.33\n",
       "SCN4B    0.95  0.89  0.78  0.19  0.56"
      ]
     },
     "execution_count": 22,
     "metadata": {},
     "output_type": "execute_result"
    }
   ],
   "source": [
    "version = dm_hcp_3d_ds5\n",
    "\n",
    "gene_list = set(hse_genes).intersection(version.weights.index)\n",
    "# print(set(hse_genes).difference(gene_list))\n",
    "\n",
    "ranks = (version.weights.rank()\n",
    " .apply(lambda x: np.round(x/x.max(),2))\n",
    " .loc[gene_list, :].sort_values(2)\n",
    " .set_axis([f'G{i+1}' for i in range(5)],axis=1)\n",
    ")\n",
    "ranks"
   ]
  },
  {
   "cell_type": "code",
   "execution_count": 7,
   "id": "3c61f215-cc15-4e5d-9b22-8c472455d86b",
   "metadata": {
    "vscode": {
     "languageId": "python"
    }
   },
   "outputs": [
    {
     "data": {
      "application/vnd.jupyter.widget-view+json": {
       "model_id": "38c3d87e1fd44a72873f26564a077307",
       "version_major": 2,
       "version_minor": 0
      },
      "text/plain": [
       "Canvas(toolbar=Toolbar(toolitems=[('Home', 'Reset original view', 'home', 'home'), ('Back', 'Back to previous …"
      ]
     },
     "metadata": {},
     "output_type": "display_data"
    }
   ],
   "source": [
    "%matplotlib widget\n",
    "\n",
    "from mpl_toolkits.mplot3d import Axes3D\n",
    "import matplotlib.pyplot as plt\n",
    "\n",
    "fig = plt.figure()\n",
    "ax = fig.add_subplot(111, projection='3d')\n",
    "\n",
    "for i in range(len(ranks)):\n",
    "    ax.scatter(ranks.PC1[i], ranks.PC2[i], ranks.PC3[i], c='r', marker='o')\n",
    "    ax.text(ranks.PC1[i], ranks.PC2[i], ranks.PC3[i], f'{ranks.index[i]}', size=5, zorder=1, color='k')\n",
    "\n",
    "ax.set_xlabel('PC1 % rank')\n",
    "ax.set_ylabel('PC2 % rank')\n",
    "ax.set_zlabel('PC3 % rank')\n",
    "\n",
    "plt.show()"
   ]
  },
  {
   "cell_type": "code",
   "execution_count": 67,
   "id": "2b348f62-adf2-4ab9-82fa-ec458a5e1029",
   "metadata": {
    "tags": [],
    "vscode": {
     "languageId": "python"
    }
   },
   "outputs": [
    {
     "data": {
      "image/png": "[encoded data removed]"
     },
     "metadata": {},
     "output_type": "display_data"
    }
   ],
   "source": [
    "%%R -i ranks -w 1500 -h 500\n",
    "g1 <- ggplot(ranks,aes(x=PC1, y=PC2)) + geom_point(color='red') + \n",
    "    geom_text(aes(label=rownames(ranks)), hjust=1, vjust=1)\n",
    "g2 <- ggplot(ranks,aes(x=PC2, y=PC3)) + geom_point(color='red') + \n",
    "    geom_text(aes(label=rownames(ranks)), hjust=1, vjust=1)\n",
    "g3 <- ggplot(ranks,aes(x=PC1, y=PC3)) + geom_point(color='red') + \n",
    "    geom_text(aes(label=rownames(ranks)), hjust=1, vjust=1)\n",
    "\n",
    "((g1 | g2 | g3) & xlim(c(0,1)) & ylim(c(0,1)) & \n",
    " theme_minimal() & coord_fixed(clip='off') & \n",
    " theme(text=element_text(size=20))) +\n",
    " plot_annotation(title = 'HSE genes % rank in PCs',\n",
    "                theme = theme(plot.title = element_text(size = 30, hjust=.5)))"
   ]
  },
  {
   "cell_type": "code",
   "execution_count": null,
   "id": "fe303789-46b4-4f3d-bc72-1c3e4f577682",
   "metadata": {
    "vscode": {
     "languageId": "python"
    }
   },
   "outputs": [],
   "source": []
  }
 ],
 "metadata": {
  "kernelspec": {
   "display_name": "Python 3 (ipykernel)",
   "language": "python",
   "name": "python3"
  }
 },
 "nbformat": 4,
 "nbformat_minor": 5
}
