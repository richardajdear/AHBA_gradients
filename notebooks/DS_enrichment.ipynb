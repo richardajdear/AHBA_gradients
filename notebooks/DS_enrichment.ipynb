{
 "cells": [
  {
   "cell_type": "markdown",
   "id": "a40d2660-338f-4e10-9919-07c24a4d92ab",
   "metadata": {},
   "source": [
    "# DS enrichment"
   ]
  },
  {
   "cell_type": "markdown",
   "id": "43fb7686-955c-425c-bef5-e8b990f272be",
   "metadata": {},
   "source": [
    "Goal: investigate how different DS filter levels influence enrichment results"
   ]
  },
  {
   "cell_type": "markdown",
   "id": "6b46c807-84be-4104-b96d-cd8f8a2c3947",
   "metadata": {
    "tags": []
   },
   "source": [
    "## Setup"
   ]
  },
  {
   "cell_type": "code",
   "execution_count": 1,
   "id": "b32cc7b7-cde9-4c96-a6c2-fbd3b75888f3",
   "metadata": {},
   "outputs": [],
   "source": [
    "# Import modules and R\n",
    "import numpy as np, pandas as pd\n",
    "%load_ext rpy2.ipython\n",
    "%load_ext autoreload\n",
    "%autoreload 2"
   ]
  },
  {
   "cell_type": "code",
   "execution_count": 2,
   "id": "83fa3a16-06c2-4e2e-a0a4-e3e1107a463b",
   "metadata": {
    "collapsed": true,
    "jupyter": {
     "outputs_hidden": true
    },
    "scrolled": true,
    "tags": []
   },
   "outputs": [
    {
     "name": "stderr",
     "output_type": "stream",
     "text": [
      "WARNING: R[write to console]: \n",
      "Attaching package: ‘lemon’\n",
      "\n",
      "\n",
      "WARNING: R[write to console]: The following object is masked from ‘package:purrr’:\n",
      "\n",
      "    %||%\n",
      "\n",
      "\n",
      "WARNING: R[write to console]: The following objects are masked from ‘package:ggplot2’:\n",
      "\n",
      "    CoordCartesian, element_render\n",
      "\n",
      "\n"
     ]
    }
   ],
   "source": [
    "# Import local code\n",
    "import sys\n",
    "sys.path.append('../code')\n",
    "import pcaVersion\n",
    "from processing_helpers import *\n",
    "from analysis_helpers import *\n",
    "%R source(\"../code/Rplots.R\");\n",
    "%R source(\"../code/brainPlots.R\");\n",
    "from brainspan import *"
   ]
  },
  {
   "cell_type": "code",
   "execution_count": null,
   "id": "6d045b95-4406-4052-9cd4-7164ab7f1e92",
   "metadata": {},
   "outputs": [],
   "source": []
  }
 ],
 "metadata": {
  "kernelspec": {
   "display_name": "Python 3",
   "language": "python",
   "name": "python3"
  },
  "language_info": {
   "codemirror_mode": {
    "name": "ipython",
    "version": 3
   },
   "file_extension": ".py",
   "mimetype": "text/x-python",
   "name": "python",
   "nbconvert_exporter": "python",
   "pygments_lexer": "ipython3",
   "version": "3.8.6"
  }
 },
 "nbformat": 4,
 "nbformat_minor": 5
}
